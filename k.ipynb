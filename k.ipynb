{
 "cells": [
  {
   "cell_type": "code",
   "execution_count": 13,
   "metadata": {},
   "outputs": [
    {
     "name": "stdout",
     "output_type": "stream",
     "text": [
      "pbkdf2_sha256$870000$DSHdVN8Q5NeZBK4BC6waqq$kYWgndJk5a+4TsvjMTIy+uLdcXIVdAgzI1EZ9q5N/ys=\n",
      "True True\n"
     ]
    }
   ],
   "source": [
    "import os\n",
    "import django\n",
    "from django.conf import settings\n",
    "\n",
    "# 设置 DJANGO_SETTINGS_MODULE 环境变量，指向你的 settings.py 文件\n",
    "os.environ.setdefault('DJANGO_SETTINGS_MODULE', 'AiCoach_backend.settings')\n",
    "\n",
    "# 初始化 Django 设置\n",
    "django.setup()\n",
    "\n",
    "from django.contrib.auth.hashers import check_password\n",
    "from django.contrib.auth.hashers import make_password\n",
    "\n",
    "\n",
    "hashed_password = \"pbkdf2_sha256$870000$PV3b2KaIuPFumFjOToNPlz$YTkyczhcl837Yg4xqS2h5I9Hx7Y42BFBq8AByeDdyZM=\"\n",
    "plain_password = \"1234\"  # 替换为你想验证的明文密码\n",
    "hashed_password_new = make_password(\"1234\")\n",
    "# 验证密码是否匹配\n",
    "is_correct_1 = check_password(plain_password, hashed_password)\n",
    "\n",
    "is_correct_2 = check_password(plain_password, hashed_password_new)\n",
    "\n",
    "print(hashed_password_new)\n",
    "\n",
    "print(is_correct_1,is_correct_2)  # 如果密码匹配，则返回 True，否则返回 False\n"
   ]
  },
  {
   "cell_type": "code",
   "execution_count": null,
   "metadata": {},
   "outputs": [],
   "source": []
  },
  {
   "cell_type": "code",
   "execution_count": null,
   "metadata": {},
   "outputs": [],
   "source": []
  }
 ],
 "metadata": {
  "kernelspec": {
   "display_name": "AiCoach_backend",
   "language": "python",
   "name": "python3"
  },
  "language_info": {
   "codemirror_mode": {
    "name": "ipython",
    "version": 3
   },
   "file_extension": ".py",
   "mimetype": "text/x-python",
   "name": "python",
   "nbconvert_exporter": "python",
   "pygments_lexer": "ipython3",
   "version": "3.10.0"
  }
 },
 "nbformat": 4,
 "nbformat_minor": 2
}
